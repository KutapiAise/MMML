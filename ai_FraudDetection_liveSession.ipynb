{
  "nbformat": 4,
  "nbformat_minor": 0,
  "metadata": {
    "colab": {
      "name": "ai_FraudDetection_liveSession.ipynb",
      "version": "0.3.2",
      "provenance": [],
      "include_colab_link": true
    },
    "kernelspec": {
      "name": "python3",
      "display_name": "Python 3"
    }
  },
  "cells": [
    {
      "cell_type": "markdown",
      "metadata": {
        "id": "view-in-github",
        "colab_type": "text"
      },
      "source": [
        "<a href=\"https://colab.research.google.com/github/KutapiAise/MMML/blob/master/ai_FraudDetection_liveSession.ipynb\" target=\"_parent\"><img src=\"https://colab.research.google.com/assets/colab-badge.svg\" alt=\"Open In Colab\"/></a>"
      ]
    },
    {
      "cell_type": "code",
      "metadata": {
        "id": "wwXwtAUmDXj5",
        "colab_type": "code",
        "colab": {}
      },
      "source": [
        "import numpy as np\n",
        "import pandas as pd\n",
        "import sklearn as sk\n",
        "from sklearn.preprocessing import scale\n",
        "import matplotlib.pyplot as plt\n",
        "import random\n"
      ],
      "execution_count": 0,
      "outputs": []
    },
    {
      "cell_type": "markdown",
      "metadata": {
        "id": "iW34MrLQFUMq",
        "colab_type": "text"
      },
      "source": [
        "**Fraud Detection**\n",
        "\n",
        "Our tasks\n",
        "\n",
        "*   Explore the dataset/visualize\n",
        "*   Decide which features are important\n",
        "*   Perform Machine learning\n",
        "*   Test the model on the testing set\n",
        "\n",
        "\n",
        "\n",
        "\n",
        "\n"
      ]
    },
    {
      "cell_type": "code",
      "metadata": {
        "id": "brVynfL2E9Kq",
        "colab_type": "code",
        "outputId": "8e0203bc-802f-4e08-98fe-4bda440a14be",
        "colab": {
          "base_uri": "https://localhost:8080/",
          "height": 224
        }
      },
      "source": [
        "df = pd.read_csv('creditcard.csv',low_memory=False)\n",
        "df = df.sample(frac=1).reset_index(drop=False)\n",
        "df.head()"
      ],
      "execution_count": 0,
      "outputs": [
        {
          "output_type": "execute_result",
          "data": {
            "text/html": [
              "<div>\n",
              "<style scoped>\n",
              "    .dataframe tbody tr th:only-of-type {\n",
              "        vertical-align: middle;\n",
              "    }\n",
              "\n",
              "    .dataframe tbody tr th {\n",
              "        vertical-align: top;\n",
              "    }\n",
              "\n",
              "    .dataframe thead th {\n",
              "        text-align: right;\n",
              "    }\n",
              "</style>\n",
              "<table border=\"1\" class=\"dataframe\">\n",
              "  <thead>\n",
              "    <tr style=\"text-align: right;\">\n",
              "      <th></th>\n",
              "      <th>index</th>\n",
              "      <th>Time</th>\n",
              "      <th>V1</th>\n",
              "      <th>V2</th>\n",
              "      <th>V3</th>\n",
              "      <th>V4</th>\n",
              "      <th>V5</th>\n",
              "      <th>V6</th>\n",
              "      <th>V7</th>\n",
              "      <th>V8</th>\n",
              "      <th>V9</th>\n",
              "      <th>V10</th>\n",
              "      <th>V11</th>\n",
              "      <th>V12</th>\n",
              "      <th>V13</th>\n",
              "      <th>V14</th>\n",
              "      <th>V15</th>\n",
              "      <th>V16</th>\n",
              "      <th>V17</th>\n",
              "      <th>V18</th>\n",
              "      <th>V19</th>\n",
              "      <th>V20</th>\n",
              "      <th>V21</th>\n",
              "      <th>V22</th>\n",
              "      <th>V23</th>\n",
              "      <th>V24</th>\n",
              "      <th>V25</th>\n",
              "      <th>V26</th>\n",
              "      <th>V27</th>\n",
              "      <th>V28</th>\n",
              "      <th>Amount</th>\n",
              "      <th>Class</th>\n",
              "    </tr>\n",
              "  </thead>\n",
              "  <tbody>\n",
              "    <tr>\n",
              "      <th>0</th>\n",
              "      <td>235030</td>\n",
              "      <td>148212.0</td>\n",
              "      <td>1.893193</td>\n",
              "      <td>-0.356911</td>\n",
              "      <td>-0.284687</td>\n",
              "      <td>0.482749</td>\n",
              "      <td>-0.640921</td>\n",
              "      <td>-0.631686</td>\n",
              "      <td>-0.335358</td>\n",
              "      <td>-0.136799</td>\n",
              "      <td>1.111946</td>\n",
              "      <td>-0.222126</td>\n",
              "      <td>-0.577131</td>\n",
              "      <td>1.117826</td>\n",
              "      <td>1.162727</td>\n",
              "      <td>-0.232646</td>\n",
              "      <td>0.586840</td>\n",
              "      <td>0.088636</td>\n",
              "      <td>-0.545089</td>\n",
              "      <td>-0.406828</td>\n",
              "      <td>-0.168637</td>\n",
              "      <td>-0.078774</td>\n",
              "      <td>-0.136022</td>\n",
              "      <td>-0.275964</td>\n",
              "      <td>0.328971</td>\n",
              "      <td>-0.026586</td>\n",
              "      <td>-0.423279</td>\n",
              "      <td>-0.627261</td>\n",
              "      <td>0.037245</td>\n",
              "      <td>-0.021455</td>\n",
              "      <td>49.99</td>\n",
              "      <td>0</td>\n",
              "    </tr>\n",
              "    <tr>\n",
              "      <th>1</th>\n",
              "      <td>239303</td>\n",
              "      <td>150041.0</td>\n",
              "      <td>2.112900</td>\n",
              "      <td>0.708255</td>\n",
              "      <td>-3.316643</td>\n",
              "      <td>0.659300</td>\n",
              "      <td>1.190690</td>\n",
              "      <td>-2.214111</td>\n",
              "      <td>1.184025</td>\n",
              "      <td>-0.671180</td>\n",
              "      <td>0.152928</td>\n",
              "      <td>-0.989553</td>\n",
              "      <td>-0.080917</td>\n",
              "      <td>-0.310265</td>\n",
              "      <td>-0.749395</td>\n",
              "      <td>-1.372961</td>\n",
              "      <td>0.275524</td>\n",
              "      <td>-0.446114</td>\n",
              "      <td>1.813585</td>\n",
              "      <td>0.548995</td>\n",
              "      <td>-0.280904</td>\n",
              "      <td>-0.254579</td>\n",
              "      <td>0.176506</td>\n",
              "      <td>0.773730</td>\n",
              "      <td>-0.263414</td>\n",
              "      <td>-0.158425</td>\n",
              "      <td>0.879745</td>\n",
              "      <td>-0.189920</td>\n",
              "      <td>-0.021938</td>\n",
              "      <td>-0.031027</td>\n",
              "      <td>1.00</td>\n",
              "      <td>0</td>\n",
              "    </tr>\n",
              "    <tr>\n",
              "      <th>2</th>\n",
              "      <td>120468</td>\n",
              "      <td>75839.0</td>\n",
              "      <td>-0.635995</td>\n",
              "      <td>0.937224</td>\n",
              "      <td>0.894019</td>\n",
              "      <td>-0.282678</td>\n",
              "      <td>0.870458</td>\n",
              "      <td>0.258952</td>\n",
              "      <td>0.523983</td>\n",
              "      <td>0.183416</td>\n",
              "      <td>-0.652047</td>\n",
              "      <td>-0.292577</td>\n",
              "      <td>1.094039</td>\n",
              "      <td>0.878936</td>\n",
              "      <td>1.058824</td>\n",
              "      <td>-0.472220</td>\n",
              "      <td>0.431214</td>\n",
              "      <td>0.492852</td>\n",
              "      <td>-0.341012</td>\n",
              "      <td>0.080424</td>\n",
              "      <td>0.179970</td>\n",
              "      <td>0.133684</td>\n",
              "      <td>-0.227255</td>\n",
              "      <td>-0.533720</td>\n",
              "      <td>0.054649</td>\n",
              "      <td>-0.877740</td>\n",
              "      <td>-0.088387</td>\n",
              "      <td>0.129143</td>\n",
              "      <td>0.151645</td>\n",
              "      <td>0.056006</td>\n",
              "      <td>2.58</td>\n",
              "      <td>0</td>\n",
              "    </tr>\n",
              "    <tr>\n",
              "      <th>3</th>\n",
              "      <td>239372</td>\n",
              "      <td>150075.0</td>\n",
              "      <td>0.067551</td>\n",
              "      <td>0.601325</td>\n",
              "      <td>1.317464</td>\n",
              "      <td>4.529598</td>\n",
              "      <td>0.301858</td>\n",
              "      <td>1.041750</td>\n",
              "      <td>-0.277797</td>\n",
              "      <td>0.373576</td>\n",
              "      <td>-1.386291</td>\n",
              "      <td>1.750149</td>\n",
              "      <td>-0.141688</td>\n",
              "      <td>-0.483083</td>\n",
              "      <td>-0.583645</td>\n",
              "      <td>0.234295</td>\n",
              "      <td>-0.124890</td>\n",
              "      <td>0.357175</td>\n",
              "      <td>-0.307992</td>\n",
              "      <td>1.277513</td>\n",
              "      <td>1.301217</td>\n",
              "      <td>0.241543</td>\n",
              "      <td>0.465484</td>\n",
              "      <td>1.338635</td>\n",
              "      <td>0.196847</td>\n",
              "      <td>-0.344737</td>\n",
              "      <td>-1.589232</td>\n",
              "      <td>0.312962</td>\n",
              "      <td>0.334584</td>\n",
              "      <td>0.302698</td>\n",
              "      <td>45.06</td>\n",
              "      <td>0</td>\n",
              "    </tr>\n",
              "    <tr>\n",
              "      <th>4</th>\n",
              "      <td>239333</td>\n",
              "      <td>150051.0</td>\n",
              "      <td>1.898510</td>\n",
              "      <td>-0.922520</td>\n",
              "      <td>-0.649560</td>\n",
              "      <td>-0.798661</td>\n",
              "      <td>-0.721101</td>\n",
              "      <td>-0.064760</td>\n",
              "      <td>-0.787303</td>\n",
              "      <td>0.146956</td>\n",
              "      <td>1.522735</td>\n",
              "      <td>-0.289679</td>\n",
              "      <td>0.783782</td>\n",
              "      <td>0.959655</td>\n",
              "      <td>-0.339569</td>\n",
              "      <td>0.051669</td>\n",
              "      <td>0.063864</td>\n",
              "      <td>0.174936</td>\n",
              "      <td>-0.521479</td>\n",
              "      <td>0.500715</td>\n",
              "      <td>0.439921</td>\n",
              "      <td>-0.058134</td>\n",
              "      <td>0.266459</td>\n",
              "      <td>0.836335</td>\n",
              "      <td>0.114063</td>\n",
              "      <td>0.736882</td>\n",
              "      <td>-0.290676</td>\n",
              "      <td>0.729831</td>\n",
              "      <td>-0.051259</td>\n",
              "      <td>-0.050294</td>\n",
              "      <td>59.50</td>\n",
              "      <td>0</td>\n",
              "    </tr>\n",
              "  </tbody>\n",
              "</table>\n",
              "</div>"
            ],
            "text/plain": [
              "    index      Time        V1        V2  ...       V27       V28  Amount  Class\n",
              "0  235030  148212.0  1.893193 -0.356911  ...  0.037245 -0.021455   49.99      0\n",
              "1  239303  150041.0  2.112900  0.708255  ... -0.021938 -0.031027    1.00      0\n",
              "2  120468   75839.0 -0.635995  0.937224  ...  0.151645  0.056006    2.58      0\n",
              "3  239372  150075.0  0.067551  0.601325  ...  0.334584  0.302698   45.06      0\n",
              "4  239333  150051.0  1.898510 -0.922520  ... -0.051259 -0.050294   59.50      0\n",
              "\n",
              "[5 rows x 32 columns]"
            ]
          },
          "metadata": {
            "tags": []
          },
          "execution_count": 5
        }
      ]
    },
    {
      "cell_type": "code",
      "metadata": {
        "id": "__d36e8UvK-p",
        "colab_type": "code",
        "outputId": "b9809ee8-2a3e-4e11-9f64-aa66d818d77e",
        "colab": {
          "base_uri": "https://localhost:8080/",
          "height": 51
        }
      },
      "source": [
        "frauds = df.loc[df['Class']==1]\n",
        "non_frauds=df.loc[df['Class']==0]\n",
        "print(len(frauds))\n",
        "print(len(non_frauds))"
      ],
      "execution_count": 0,
      "outputs": [
        {
          "output_type": "stream",
          "text": [
            "492\n",
            "284315\n"
          ],
          "name": "stdout"
        }
      ]
    },
    {
      "cell_type": "code",
      "metadata": {
        "id": "g3wUe6TnOIA_",
        "colab_type": "code",
        "outputId": "e39bcda3-45d1-4328-b9bf-27056aff3bf8",
        "colab": {
          "base_uri": "https://localhost:8080/",
          "height": 283
        }
      },
      "source": [
        "ax=frauds.plot.scatter(x='Amount', y='Class',color ='red',label='Fraud')\n",
        "non_frauds.plot.scatter(x=\"Amount\", y=\"Class\",color=\"green\",label =\"Non-Fraud\",ax=ax)\n",
        "plt.show()\n",
        "\n",
        "#note that this plot gives us the intution of the amount vs fraud relation. \n",
        "#Inference:\n",
        "#\n",
        "# Most of the cases are classified fraudulent when the amount is small\n",
        "#this can be visualizedin the scatter plot\n",
        "# \n",
        "\n",
        "#for the assignment you should make different graphs using barplot, saeaborn or pyplot or etc"
      ],
      "execution_count": 0,
      "outputs": [
        {
          "output_type": "display_data",
          "data": {
            "image/png": "[encoded data removed]",
            "text/plain": [
              "<Figure size 432x288 with 1 Axes>"
            ]
          },
          "metadata": {
            "tags": []
          }
        }
      ]
    },
    {
      "cell_type": "markdown",
      "metadata": {
        "id": "jSiGtpfJuWWb",
        "colab_type": "text"
      },
      "source": [
        "- how to handle clear case of class imbalance?\n",
        "\n",
        "Sirajs go to methodology is adopting \"Clustering\". but surely there are other methods that one can adopt\n",
        "\n",
        "- How to decide whether to perform logistic regression next?\n",
        "\n",
        "Go to google and search for  images find the one that differentiates linear and logistic regression.\n",
        "\n",
        "With scikit learn we could bild 7 models in  7 lines of code and have them all trained in parallel.And look at all different accuracy scores and see which one is better at predictions. Unfortunately we dont have any sure shot way as to why some models work better than the others. That is where the math knowledge comes in to play.\n",
        "\n",
        "Since the data is imbalances , we believe that logistic regression is better than linear regression for the fraud detection problem.if the classes were pretty evenly split, liner would be better.\n",
        "\n",
        " - Get used to AutoML , later in the course\n",
        "\n",
        "\n",
        "\n",
        "\n",
        "\n",
        "\n",
        "\n",
        "\n",
        "\n"
      ]
    },
    {
      "cell_type": "code",
      "metadata": {
        "id": "AP29b6ZUxNSi",
        "colab_type": "code",
        "colab": {}
      },
      "source": [
        "from sklearn import linear_model\n",
        "from sklearn.model_selection import train_test_split"
      ],
      "execution_count": 0,
      "outputs": []
    },
    {
      "cell_type": "code",
      "metadata": {
        "id": "q5WEMqEYP_kq",
        "colab_type": "code",
        "colab": {}
      },
      "source": [
        "x=df.iloc[:, :-1]\n",
        "y= df[\"Class\"]\n",
        "\n",
        "X_train,X_test,y_train,y_test = train_test_split(x,y,test_size=0.35)"
      ],
      "execution_count": 0,
      "outputs": []
    },
    {
      "cell_type": "code",
      "metadata": {
        "id": "cadFWHOxxwqE",
        "colab_type": "code",
        "outputId": "881e2e11-53ff-4bcd-cd46-059dc9542d49",
        "colab": {
          "base_uri": "https://localhost:8080/",
          "height": 88
        }
      },
      "source": [
        "logistic= linear_model.LogisticRegression(C=1e5)  #100,000\n",
        "#c is the penalty statistical term ofr over fitting\n",
        "# read more about it \n",
        "\n",
        "logistic.fit(X_train,y_train)\n",
        "print(\"score:\", logistic.score(X_test,y_test))"
      ],
      "execution_count": 0,
      "outputs": [
        {
          "output_type": "stream",
          "text": [
            "/usr/local/lib/python3.6/dist-packages/sklearn/linear_model/logistic.py:432: FutureWarning: Default solver will be changed to 'lbfgs' in 0.22. Specify a solver to silence this warning.\n",
            "  FutureWarning)\n"
          ],
          "name": "stderr"
        },
        {
          "output_type": "stream",
          "text": [
            "score: 0.9987861521021638\n"
          ],
          "name": "stdout"
        }
      ]
    },
    {
      "cell_type": "code",
      "metadata": {
        "id": "JZfMsWbwzy2s",
        "colab_type": "code",
        "outputId": "9843d09f-4cd6-4c08-dc05-e7601ff4d151",
        "colab": {
          "base_uri": "https://localhost:8080/",
          "height": 34
        }
      },
      "source": [
        "y_predicted=np.array(logistic.predict(X_test))\n",
        "print(y_predicted)"
      ],
      "execution_count": 0,
      "outputs": [
        {
          "output_type": "stream",
          "text": [
            "[0 0 0 ... 0 0 0]\n"
          ],
          "name": "stdout"
        }
      ]
    },
    {
      "cell_type": "markdown",
      "metadata": {
        "id": "N3IyXH1m1fTx",
        "colab_type": "text"
      },
      "source": [
        " * to check if its overitting , plot the graph and just check if the line is ltrying to fit across all or most of sample points, if not then it's probably not overfitting. \n",
        "\n",
        "        You could check different models and check which one gives you the most optimal results. Try it on the real world data.\n",
        "\n",
        "\n",
        "* How to get the correct value for hyperparameter \"c\" in logistic regression? Ths can be done throughr regularization- it attempts to engineer the model paramters such that it prevents overfitting for all the ML problems.\n",
        "\n",
        "\n",
        "      There is actually a lot of theory on  it. (quora)\n",
        "\n",
        "Q. What is the stripe alternative for countries that don't have stripe. ?\n",
        "- rasorpay - India\n",
        "- braintree\n",
        "- paypay\n",
        "\n",
        "\n",
        "Q. How to learn things?\n",
        "  * 4-5 hours a day. Get to the point that you could probably learn anything in just 2 days or a day.\n",
        "\n",
        "  * Turn off social media, just be alone. Immerse yourself in the world of topic that you are trying to laern- Focus- you will larn that fast\n",
        "\n",
        "\n",
        "* For those who graduate the course thay will be referred.\n",
        "\n",
        "How to you beat create datasets/\n",
        "Pandas- yiu will want it to clearly label all the columns,remove all the empty values from the dataset.\n",
        "\n",
        "Think about about the mid-term project. You will be paired to create a startup"
      ]
    },
    {
      "cell_type": "code",
      "metadata": {
        "id": "kEMq6piY0e0S",
        "colab_type": "code",
        "colab": {}
      },
      "source": [
        ""
      ],
      "execution_count": 0,
      "outputs": []
    }
  ]
}